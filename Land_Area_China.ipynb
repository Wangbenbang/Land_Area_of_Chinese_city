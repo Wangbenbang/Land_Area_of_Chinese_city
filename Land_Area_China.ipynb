{
 "cells": [
  {
   "cell_type": "code",
   "execution_count": 10,
   "metadata": {},
   "outputs": [],
   "source": [
    "import requests\n",
    "from bs4 import BeautifulSoup\n",
    "import bs4\n",
    "import traceback\n",
    "import re\n",
    "import urllib\n",
    "import os\n",
    "import pandas as pd\n",
    "import numpy as np\n",
    "os.chdir(\"C:/Users/BENLAI/Desktop/毕业论文/Data/行政区域面积\")\n",
    "path = os.getcwd()"
   ]
  },
  {
   "cell_type": "code",
   "execution_count": 11,
   "metadata": {},
   "outputs": [],
   "source": [
    "#将中文转化为url编码\n",
    "def transToUrl(city_lst, provi_lst):\n",
    "    try:\n",
    "        urllst = []\n",
    "        for i in range(int(len(city_lst)/2)):\n",
    "            city_dict={\n",
    "                'shengji' : city_lst[2*i] ,\n",
    "                'diji' : city_lst[2*i+1],\n",
    "                'xianji' : -1\n",
    "            }\n",
    "            urlencode=urllib.parse.urlencode(city_dict, encoding='gb2312')\n",
    "            urllst.append(urlencode)\n",
    "        for i in range(len(provi_lst)):\n",
    "            provience_dict={\n",
    "                'shengji': provi_lst[i],\n",
    "                'diji':-1,\n",
    "                'xianji' : -1\n",
    "            }\n",
    "            urlencode=urllib.parse.urlencode(provience_dict, encoding='gb2312')\n",
    "            urllst.append(urlencode)\n",
    "        return urllst        \n",
    "    except:\n",
    "        return 'False'"
   ]
  },
  {
   "cell_type": "code",
   "execution_count": 12,
   "metadata": {},
   "outputs": [],
   "source": [
    "def getHTMLText(url, code = 'utf-8'):\n",
    "    try:\n",
    "        r = requests.get(url)\n",
    "        r.raise_for_status()\n",
    "#        r.encoding = code\n",
    "        r.encoding = r.apparent_encoding\n",
    "        return r.text\n",
    "    except:\n",
    "        return \"False\""
   ]
  },
  {
   "cell_type": "code",
   "execution_count": 19,
   "metadata": {},
   "outputs": [],
   "source": [
    "def getAreaInfo(urllst, Area_info_url, fpath):\n",
    "    count = 0\n",
    "    for j in range(len(urllst)):\n",
    "        url = Area_info_url + urllst[j]\n",
    "        html = getHTMLText(url)\n",
    "        try:\n",
    "            if html == \"\":\n",
    "                print('html error')\n",
    "                continue\n",
    "\n",
    "            soup = BeautifulSoup(html, 'html.parser')\n",
    "            AreaInfo = soup.find('table', attrs = {'class':'info_table'})\n",
    "            flag = 100\n",
    "            while AreaInfo == None:#异常判断\n",
    "                soup = BeautifulSoup(html, 'html.parser')\n",
    "                AreaInfo = soup.find('table', attrs = {'class':'info_table'})\n",
    "                flag = flag - 1\n",
    "                if flag < 0:\n",
    "                    print('AreaInfo = None error'+ url)\n",
    "                    break\n",
    "                continue\n",
    "\n",
    "            valueList = AreaInfo.find_all('td')\n",
    "            num_cities = int(len(valueList)/7)\n",
    "            #columns = ['地名', '驻地', '人口（万人）', '面积（平方千米）', '行政区划代码', '区号', '邮编']\n",
    "            info_matrix = np.zeros([num_cities, 7], str)\n",
    "            info_data = pd.DataFrame(info_matrix)\n",
    "            for i in range(num_cities):\n",
    "                for j in range(7):\n",
    "                    info_data.iloc[i][j] = valueList[ i * 7 + j ].text   \n",
    "            info_data.to_csv( fpath, mode='a', header=False, encoding = 'utf-8')\n",
    "            \n",
    "        except:\n",
    "            count = count + 1\n",
    "            print('\\r当前进度: {: 2f}%'.format(count*100/len(urllst)),end = '')\n",
    "            traceback.print_exc()\n",
    "            continue"
   ]
  },
  {
   "cell_type": "code",
   "execution_count": 20,
   "metadata": {},
   "outputs": [],
   "source": [
    "def main():\n",
    "    #读取省与地级市简称\n",
    "    city_lst = []\n",
    "    city_fd = open( \"city_lst.txt\", \"r\" ) \n",
    "    for line in city_fd.readlines():\n",
    "        city_lst.append(list(map(str,line.split(','))))\n",
    "    for item in city_lst:\n",
    "        city_lst = item       \n",
    "    provi_lst = []\n",
    "    provi_fd = open( \"province_lst.txt\", \"r\" ) \n",
    "    for line in provi_fd.readlines():\n",
    "        provi_lst.append(list(map(str,line.split(','))))\n",
    "    for item in provi_lst:\n",
    "        provi_lst = item\n",
    "\n",
    "    #利用函数获得url编码\n",
    "    urllst = transToUrl(city_lst, provi_lst)\n",
    "    Area_info_url = 'http://xzqh.mca.gov.cn/defaultQuery?'\n",
    "    output_file = 'ChinaAreaInfo.csv'\n",
    "    getAreaInfo(urllst, Area_info_url, output_file)"
   ]
  },
  {
   "cell_type": "code",
   "execution_count": 21,
   "metadata": {},
   "outputs": [
    {
     "name": "stdout",
     "output_type": "stream",
     "text": [
      "AreaInfo = None errorhttp://xzqh.mca.gov.cn/defaultQuery?shengji=%B0%B2%BB%D5%CA%A1%28%CD%EE%29&diji=-1&xianji=-1\n",
      "\r",
      "当前进度:  3.225806%"
     ]
    },
    {
     "name": "stderr",
     "output_type": "stream",
     "text": [
      "Traceback (most recent call last):\n",
      "  File \"<ipython-input-19-eccd8ca253c6>\", line 23, in getAreaInfo\n",
      "    valueList = AreaInfo.find_all('td')\n",
      "AttributeError: 'NoneType' object has no attribute 'find_all'\n"
     ]
    },
    {
     "name": "stdout",
     "output_type": "stream",
     "text": [
      "AreaInfo = None errorhttp://xzqh.mca.gov.cn/defaultQuery?shengji=%B9%E3%CE%F7%D7%B3%D7%E5%D7%D4%D6%CE%C7%F8%28%B9%F0%29&diji=-1&xianji=-1\n",
      "\r",
      "当前进度:  6.451613%"
     ]
    },
    {
     "name": "stderr",
     "output_type": "stream",
     "text": [
      "Traceback (most recent call last):\n",
      "  File \"<ipython-input-19-eccd8ca253c6>\", line 23, in getAreaInfo\n",
      "    valueList = AreaInfo.find_all('td')\n",
      "AttributeError: 'NoneType' object has no attribute 'find_all'\n"
     ]
    }
   ],
   "source": [
    "main()"
   ]
  },
  {
   "cell_type": "code",
   "execution_count": null,
   "metadata": {},
   "outputs": [],
   "source": []
  }
 ],
 "metadata": {
  "kernelspec": {
   "display_name": "Python 3",
   "language": "python",
   "name": "python3"
  },
  "language_info": {
   "codemirror_mode": {
    "name": "ipython",
    "version": 3
   },
   "file_extension": ".py",
   "mimetype": "text/x-python",
   "name": "python",
   "nbconvert_exporter": "python",
   "pygments_lexer": "ipython3",
   "version": "3.7.1"
  }
 },
 "nbformat": 4,
 "nbformat_minor": 2
}
